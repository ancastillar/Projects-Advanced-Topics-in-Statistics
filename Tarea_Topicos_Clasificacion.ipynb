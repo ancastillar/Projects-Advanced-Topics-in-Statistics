{
  "nbformat": 4,
  "nbformat_minor": 0,
  "metadata": {
    "colab": {
      "name": "Tarea_Topicos_Clasificacion.ipynb",
      "provenance": []
    },
    "kernelspec": {
      "name": "python3",
      "display_name": "Python 3"
    },
    "language_info": {
      "name": "python"
    }
  },
  "cells": [
    {
      "cell_type": "markdown",
      "metadata": {
        "id": "zmB9eylrBSfz"
      },
      "source": [
        "**Tarea de Clasificación**\n",
        "\n",
        "Astrid Natalia Castilla Reyes"
      ]
    },
    {
      "cell_type": "code",
      "metadata": {
        "id": "TLeG2HKCBBNT"
      },
      "source": [
        "import pandas as pd\n",
        "import matplotlib.pyplot as plt\n",
        "from scipy import stats\n",
        "import seaborn as sns\n",
        "import numpy as np\n",
        "from sklearn.preprocessing import StandardScaler\n",
        "plt.style.use('ggplot')\n",
        "from sklearn.metrics import classification_report\n",
        "from sklearn.model_selection import train_test_split\n",
        "import keras\n",
        "from tensorflow.keras.utils import plot_model\n",
        "#\n",
        "from sklearn.preprocessing import LabelEncoder\n",
        "from keras.models import Sequential\n",
        "from keras.layers import Dense, Dropout\n",
        "from tensorflow.keras.metrics import AUC\n",
        "from tensorflow.keras import regularizers, optimizers\n",
        "from tensorflow.keras.callbacks import EarlyStopping\n",
        "\n"
      ],
      "execution_count": 24,
      "outputs": []
    },
    {
      "cell_type": "markdown",
      "metadata": {
        "id": "A20BN9l_CD6t"
      },
      "source": [
        "**Importamos la información**"
      ]
    },
    {
      "cell_type": "code",
      "metadata": {
        "id": "eAWGVaYWBYJC"
      },
      "source": [
        "df_c = pd.read_csv(\"/content/drive/MyDrive/Tareas_de_topicos_datasets/data.csv\").drop(\"Unnamed: 32\", axis=1)\n"
      ],
      "execution_count": 5,
      "outputs": []
    },
    {
      "cell_type": "code",
      "metadata": {
        "colab": {
          "base_uri": "https://localhost:8080/",
          "height": 236
        },
        "id": "z_YeL7lfCQeT",
        "outputId": "6f489470-12ea-4ed6-e2eb-0101dc69de15"
      },
      "source": [
        "df_c.head()"
      ],
      "execution_count": 6,
      "outputs": [
        {
          "output_type": "execute_result",
          "data": {
            "text/html": [
              "<div>\n",
              "<style scoped>\n",
              "    .dataframe tbody tr th:only-of-type {\n",
              "        vertical-align: middle;\n",
              "    }\n",
              "\n",
              "    .dataframe tbody tr th {\n",
              "        vertical-align: top;\n",
              "    }\n",
              "\n",
              "    .dataframe thead th {\n",
              "        text-align: right;\n",
              "    }\n",
              "</style>\n",
              "<table border=\"1\" class=\"dataframe\">\n",
              "  <thead>\n",
              "    <tr style=\"text-align: right;\">\n",
              "      <th></th>\n",
              "      <th>id</th>\n",
              "      <th>diagnosis</th>\n",
              "      <th>radius_mean</th>\n",
              "      <th>texture_mean</th>\n",
              "      <th>perimeter_mean</th>\n",
              "      <th>area_mean</th>\n",
              "      <th>smoothness_mean</th>\n",
              "      <th>compactness_mean</th>\n",
              "      <th>concavity_mean</th>\n",
              "      <th>concave points_mean</th>\n",
              "      <th>symmetry_mean</th>\n",
              "      <th>fractal_dimension_mean</th>\n",
              "      <th>radius_se</th>\n",
              "      <th>texture_se</th>\n",
              "      <th>perimeter_se</th>\n",
              "      <th>area_se</th>\n",
              "      <th>smoothness_se</th>\n",
              "      <th>compactness_se</th>\n",
              "      <th>concavity_se</th>\n",
              "      <th>concave points_se</th>\n",
              "      <th>symmetry_se</th>\n",
              "      <th>fractal_dimension_se</th>\n",
              "      <th>radius_worst</th>\n",
              "      <th>texture_worst</th>\n",
              "      <th>perimeter_worst</th>\n",
              "      <th>area_worst</th>\n",
              "      <th>smoothness_worst</th>\n",
              "      <th>compactness_worst</th>\n",
              "      <th>concavity_worst</th>\n",
              "      <th>concave points_worst</th>\n",
              "      <th>symmetry_worst</th>\n",
              "      <th>fractal_dimension_worst</th>\n",
              "    </tr>\n",
              "  </thead>\n",
              "  <tbody>\n",
              "    <tr>\n",
              "      <th>0</th>\n",
              "      <td>842302</td>\n",
              "      <td>M</td>\n",
              "      <td>17.99</td>\n",
              "      <td>10.38</td>\n",
              "      <td>122.80</td>\n",
              "      <td>1001.0</td>\n",
              "      <td>0.11840</td>\n",
              "      <td>0.27760</td>\n",
              "      <td>0.3001</td>\n",
              "      <td>0.14710</td>\n",
              "      <td>0.2419</td>\n",
              "      <td>0.07871</td>\n",
              "      <td>1.0950</td>\n",
              "      <td>0.9053</td>\n",
              "      <td>8.589</td>\n",
              "      <td>153.40</td>\n",
              "      <td>0.006399</td>\n",
              "      <td>0.04904</td>\n",
              "      <td>0.05373</td>\n",
              "      <td>0.01587</td>\n",
              "      <td>0.03003</td>\n",
              "      <td>0.006193</td>\n",
              "      <td>25.38</td>\n",
              "      <td>17.33</td>\n",
              "      <td>184.60</td>\n",
              "      <td>2019.0</td>\n",
              "      <td>0.1622</td>\n",
              "      <td>0.6656</td>\n",
              "      <td>0.7119</td>\n",
              "      <td>0.2654</td>\n",
              "      <td>0.4601</td>\n",
              "      <td>0.11890</td>\n",
              "    </tr>\n",
              "    <tr>\n",
              "      <th>1</th>\n",
              "      <td>842517</td>\n",
              "      <td>M</td>\n",
              "      <td>20.57</td>\n",
              "      <td>17.77</td>\n",
              "      <td>132.90</td>\n",
              "      <td>1326.0</td>\n",
              "      <td>0.08474</td>\n",
              "      <td>0.07864</td>\n",
              "      <td>0.0869</td>\n",
              "      <td>0.07017</td>\n",
              "      <td>0.1812</td>\n",
              "      <td>0.05667</td>\n",
              "      <td>0.5435</td>\n",
              "      <td>0.7339</td>\n",
              "      <td>3.398</td>\n",
              "      <td>74.08</td>\n",
              "      <td>0.005225</td>\n",
              "      <td>0.01308</td>\n",
              "      <td>0.01860</td>\n",
              "      <td>0.01340</td>\n",
              "      <td>0.01389</td>\n",
              "      <td>0.003532</td>\n",
              "      <td>24.99</td>\n",
              "      <td>23.41</td>\n",
              "      <td>158.80</td>\n",
              "      <td>1956.0</td>\n",
              "      <td>0.1238</td>\n",
              "      <td>0.1866</td>\n",
              "      <td>0.2416</td>\n",
              "      <td>0.1860</td>\n",
              "      <td>0.2750</td>\n",
              "      <td>0.08902</td>\n",
              "    </tr>\n",
              "    <tr>\n",
              "      <th>2</th>\n",
              "      <td>84300903</td>\n",
              "      <td>M</td>\n",
              "      <td>19.69</td>\n",
              "      <td>21.25</td>\n",
              "      <td>130.00</td>\n",
              "      <td>1203.0</td>\n",
              "      <td>0.10960</td>\n",
              "      <td>0.15990</td>\n",
              "      <td>0.1974</td>\n",
              "      <td>0.12790</td>\n",
              "      <td>0.2069</td>\n",
              "      <td>0.05999</td>\n",
              "      <td>0.7456</td>\n",
              "      <td>0.7869</td>\n",
              "      <td>4.585</td>\n",
              "      <td>94.03</td>\n",
              "      <td>0.006150</td>\n",
              "      <td>0.04006</td>\n",
              "      <td>0.03832</td>\n",
              "      <td>0.02058</td>\n",
              "      <td>0.02250</td>\n",
              "      <td>0.004571</td>\n",
              "      <td>23.57</td>\n",
              "      <td>25.53</td>\n",
              "      <td>152.50</td>\n",
              "      <td>1709.0</td>\n",
              "      <td>0.1444</td>\n",
              "      <td>0.4245</td>\n",
              "      <td>0.4504</td>\n",
              "      <td>0.2430</td>\n",
              "      <td>0.3613</td>\n",
              "      <td>0.08758</td>\n",
              "    </tr>\n",
              "    <tr>\n",
              "      <th>3</th>\n",
              "      <td>84348301</td>\n",
              "      <td>M</td>\n",
              "      <td>11.42</td>\n",
              "      <td>20.38</td>\n",
              "      <td>77.58</td>\n",
              "      <td>386.1</td>\n",
              "      <td>0.14250</td>\n",
              "      <td>0.28390</td>\n",
              "      <td>0.2414</td>\n",
              "      <td>0.10520</td>\n",
              "      <td>0.2597</td>\n",
              "      <td>0.09744</td>\n",
              "      <td>0.4956</td>\n",
              "      <td>1.1560</td>\n",
              "      <td>3.445</td>\n",
              "      <td>27.23</td>\n",
              "      <td>0.009110</td>\n",
              "      <td>0.07458</td>\n",
              "      <td>0.05661</td>\n",
              "      <td>0.01867</td>\n",
              "      <td>0.05963</td>\n",
              "      <td>0.009208</td>\n",
              "      <td>14.91</td>\n",
              "      <td>26.50</td>\n",
              "      <td>98.87</td>\n",
              "      <td>567.7</td>\n",
              "      <td>0.2098</td>\n",
              "      <td>0.8663</td>\n",
              "      <td>0.6869</td>\n",
              "      <td>0.2575</td>\n",
              "      <td>0.6638</td>\n",
              "      <td>0.17300</td>\n",
              "    </tr>\n",
              "    <tr>\n",
              "      <th>4</th>\n",
              "      <td>84358402</td>\n",
              "      <td>M</td>\n",
              "      <td>20.29</td>\n",
              "      <td>14.34</td>\n",
              "      <td>135.10</td>\n",
              "      <td>1297.0</td>\n",
              "      <td>0.10030</td>\n",
              "      <td>0.13280</td>\n",
              "      <td>0.1980</td>\n",
              "      <td>0.10430</td>\n",
              "      <td>0.1809</td>\n",
              "      <td>0.05883</td>\n",
              "      <td>0.7572</td>\n",
              "      <td>0.7813</td>\n",
              "      <td>5.438</td>\n",
              "      <td>94.44</td>\n",
              "      <td>0.011490</td>\n",
              "      <td>0.02461</td>\n",
              "      <td>0.05688</td>\n",
              "      <td>0.01885</td>\n",
              "      <td>0.01756</td>\n",
              "      <td>0.005115</td>\n",
              "      <td>22.54</td>\n",
              "      <td>16.67</td>\n",
              "      <td>152.20</td>\n",
              "      <td>1575.0</td>\n",
              "      <td>0.1374</td>\n",
              "      <td>0.2050</td>\n",
              "      <td>0.4000</td>\n",
              "      <td>0.1625</td>\n",
              "      <td>0.2364</td>\n",
              "      <td>0.07678</td>\n",
              "    </tr>\n",
              "  </tbody>\n",
              "</table>\n",
              "</div>"
            ],
            "text/plain": [
              "         id diagnosis  ...  symmetry_worst  fractal_dimension_worst\n",
              "0    842302         M  ...          0.4601                  0.11890\n",
              "1    842517         M  ...          0.2750                  0.08902\n",
              "2  84300903         M  ...          0.3613                  0.08758\n",
              "3  84348301         M  ...          0.6638                  0.17300\n",
              "4  84358402         M  ...          0.2364                  0.07678\n",
              "\n",
              "[5 rows x 32 columns]"
            ]
          },
          "metadata": {
            "tags": []
          },
          "execution_count": 6
        }
      ]
    },
    {
      "cell_type": "markdown",
      "metadata": {
        "id": "VNbuV3YoCgMH"
      },
      "source": [
        "**Preprocesamiento**"
      ]
    },
    {
      "cell_type": "code",
      "metadata": {
        "id": "P4mMPOeVCRgO"
      },
      "source": [
        "x = df_c.iloc[:,2:].values # extrae como tensores numpy\n",
        "y = df_c.iloc[:,1].values\n",
        "\n",
        "#Adicionalmente, debemos codificar la variable objetivo\n",
        "\n",
        "labelencoder_y = LabelEncoder()\n",
        "y = labelencoder_y.fit_transform(y)\n",
        "sc = StandardScaler()\n",
        "\n",
        "x_train, x_test, y_train, y_test = train_test_split(x, y, test_size = 0.2, random_state = 0)\n",
        "x_train = sc.fit_transform(x_train)\n",
        "x_test = sc.transform(x_test)"
      ],
      "execution_count": 15,
      "outputs": []
    },
    {
      "cell_type": "code",
      "metadata": {
        "colab": {
          "base_uri": "https://localhost:8080/"
        },
        "id": "CzN3p9GvDU7V",
        "outputId": "9bb9bae6-6d99-49df-89a0-831b53309ded"
      },
      "source": [
        "x_train.shape[1]"
      ],
      "execution_count": 17,
      "outputs": [
        {
          "output_type": "execute_result",
          "data": {
            "text/plain": [
              "30"
            ]
          },
          "metadata": {
            "tags": []
          },
          "execution_count": 17
        }
      ]
    },
    {
      "cell_type": "markdown",
      "metadata": {
        "id": "1ifxIDN-DD_U"
      },
      "source": [
        "**Modelo**"
      ]
    },
    {
      "cell_type": "code",
      "metadata": {
        "id": "wf_Mq_WLCkPJ"
      },
      "source": [
        "model2 = Sequential()\n",
        "\n",
        "# input layer\n",
        "model2.add(Dense(units= 30, input_shape=(30,),activation='relu'))\n",
        "model2.add(Dropout(0.3))\n",
        "\n",
        "# hidden layer\n",
        "model2.add(Dense(15,activation='relu'))\n",
        "model2.add(Dropout(0.4))\n",
        "\n",
        "# hidden layer\n",
        "model2.add(Dense(10,activation='relu'))\n",
        "\n",
        "\n",
        "# output layer\n",
        "model2.add(Dense(1, activation='sigmoid'))\n",
        "\n",
        "# compile model\n",
        "model2.compile(optimizer=\"adam\", loss='binary_crossentropy', metrics=[AUC(name='AUC')])\n",
        "early_stop = EarlyStopping(monitor='val_loss', mode='min', verbose=1, patience=25)"
      ],
      "execution_count": 56,
      "outputs": []
    },
    {
      "cell_type": "code",
      "metadata": {
        "colab": {
          "base_uri": "https://localhost:8080/"
        },
        "id": "5VzJ3a3CEI_g",
        "outputId": "f049f501-f758-4ec7-a6b7-0fdf07b8034e"
      },
      "source": [
        "model2.summary()"
      ],
      "execution_count": 57,
      "outputs": [
        {
          "output_type": "stream",
          "text": [
            "Model: \"sequential_10\"\n",
            "_________________________________________________________________\n",
            "Layer (type)                 Output Shape              Param #   \n",
            "=================================================================\n",
            "dense_37 (Dense)             (None, 30)                930       \n",
            "_________________________________________________________________\n",
            "dropout_22 (Dropout)         (None, 30)                0         \n",
            "_________________________________________________________________\n",
            "dense_38 (Dense)             (None, 15)                465       \n",
            "_________________________________________________________________\n",
            "dropout_23 (Dropout)         (None, 15)                0         \n",
            "_________________________________________________________________\n",
            "dense_39 (Dense)             (None, 10)                160       \n",
            "_________________________________________________________________\n",
            "dense_40 (Dense)             (None, 1)                 11        \n",
            "=================================================================\n",
            "Total params: 1,566\n",
            "Trainable params: 1,566\n",
            "Non-trainable params: 0\n",
            "_________________________________________________________________\n"
          ],
          "name": "stdout"
        }
      ]
    },
    {
      "cell_type": "code",
      "metadata": {
        "colab": {
          "base_uri": "https://localhost:8080/"
        },
        "id": "nWu955NVClN_",
        "outputId": "5a80f3be-a14b-419b-8704-36e3b19295da"
      },
      "source": [
        "\n",
        "history = model2.fit(x=x_train, \n",
        "          y=y_train, \n",
        "          epochs=150,\n",
        "          verbose = 2,\n",
        "          validation_data=(x_test, y_test),\n",
        "          callbacks=[early_stop])\n",
        "\n"
      ],
      "execution_count": 58,
      "outputs": [
        {
          "output_type": "stream",
          "text": [
            "Epoch 1/150\n",
            "15/15 - 1s - loss: 0.7131 - AUC: 0.6130 - val_loss: 0.6455 - val_AUC: 0.9527\n",
            "Epoch 2/150\n",
            "15/15 - 0s - loss: 0.6738 - AUC: 0.6927 - val_loss: 0.5736 - val_AUC: 0.9848\n",
            "Epoch 3/150\n",
            "15/15 - 0s - loss: 0.5648 - AUC: 0.8623 - val_loss: 0.4843 - val_AUC: 0.9859\n",
            "Epoch 4/150\n",
            "15/15 - 0s - loss: 0.4465 - AUC: 0.9402 - val_loss: 0.3749 - val_AUC: 0.9868\n",
            "Epoch 5/150\n",
            "15/15 - 0s - loss: 0.3847 - AUC: 0.9384 - val_loss: 0.2808 - val_AUC: 0.9883\n",
            "Epoch 6/150\n",
            "15/15 - 0s - loss: 0.3119 - AUC: 0.9690 - val_loss: 0.2193 - val_AUC: 0.9883\n",
            "Epoch 7/150\n",
            "15/15 - 0s - loss: 0.2591 - AUC: 0.9699 - val_loss: 0.1809 - val_AUC: 0.9892\n",
            "Epoch 8/150\n",
            "15/15 - 0s - loss: 0.2352 - AUC: 0.9738 - val_loss: 0.1532 - val_AUC: 0.9905\n",
            "Epoch 9/150\n",
            "15/15 - 0s - loss: 0.1886 - AUC: 0.9833 - val_loss: 0.1305 - val_AUC: 0.9929\n",
            "Epoch 10/150\n",
            "15/15 - 0s - loss: 0.1721 - AUC: 0.9852 - val_loss: 0.1142 - val_AUC: 0.9943\n",
            "Epoch 11/150\n",
            "15/15 - 0s - loss: 0.1534 - AUC: 0.9854 - val_loss: 0.1045 - val_AUC: 0.9948\n",
            "Epoch 12/150\n",
            "15/15 - 0s - loss: 0.1587 - AUC: 0.9834 - val_loss: 0.0974 - val_AUC: 0.9943\n",
            "Epoch 13/150\n",
            "15/15 - 0s - loss: 0.1311 - AUC: 0.9882 - val_loss: 0.0923 - val_AUC: 0.9943\n",
            "Epoch 14/150\n",
            "15/15 - 0s - loss: 0.1393 - AUC: 0.9858 - val_loss: 0.0879 - val_AUC: 0.9957\n",
            "Epoch 15/150\n",
            "15/15 - 0s - loss: 0.1242 - AUC: 0.9888 - val_loss: 0.0853 - val_AUC: 0.9957\n",
            "Epoch 16/150\n",
            "15/15 - 0s - loss: 0.1234 - AUC: 0.9875 - val_loss: 0.0828 - val_AUC: 0.9959\n",
            "Epoch 17/150\n",
            "15/15 - 0s - loss: 0.1075 - AUC: 0.9920 - val_loss: 0.0804 - val_AUC: 0.9962\n",
            "Epoch 18/150\n",
            "15/15 - 0s - loss: 0.0991 - AUC: 0.9920 - val_loss: 0.0793 - val_AUC: 0.9962\n",
            "Epoch 19/150\n",
            "15/15 - 0s - loss: 0.1002 - AUC: 0.9887 - val_loss: 0.0783 - val_AUC: 0.9962\n",
            "Epoch 20/150\n",
            "15/15 - 0s - loss: 0.0991 - AUC: 0.9924 - val_loss: 0.0768 - val_AUC: 0.9965\n",
            "Epoch 21/150\n",
            "15/15 - 0s - loss: 0.1025 - AUC: 0.9909 - val_loss: 0.0755 - val_AUC: 0.9965\n",
            "Epoch 22/150\n",
            "15/15 - 0s - loss: 0.1021 - AUC: 0.9870 - val_loss: 0.0728 - val_AUC: 0.9967\n",
            "Epoch 23/150\n",
            "15/15 - 0s - loss: 0.0986 - AUC: 0.9891 - val_loss: 0.0708 - val_AUC: 0.9973\n",
            "Epoch 24/150\n",
            "15/15 - 0s - loss: 0.0992 - AUC: 0.9898 - val_loss: 0.0728 - val_AUC: 0.9970\n",
            "Epoch 25/150\n",
            "15/15 - 0s - loss: 0.0867 - AUC: 0.9938 - val_loss: 0.0729 - val_AUC: 0.9970\n",
            "Epoch 26/150\n",
            "15/15 - 0s - loss: 0.0740 - AUC: 0.9962 - val_loss: 0.0735 - val_AUC: 0.9971\n",
            "Epoch 27/150\n",
            "15/15 - 0s - loss: 0.0670 - AUC: 0.9948 - val_loss: 0.0742 - val_AUC: 0.9971\n",
            "Epoch 28/150\n",
            "15/15 - 0s - loss: 0.0703 - AUC: 0.9954 - val_loss: 0.0746 - val_AUC: 0.9971\n",
            "Epoch 29/150\n",
            "15/15 - 0s - loss: 0.0812 - AUC: 0.9930 - val_loss: 0.0747 - val_AUC: 0.9971\n",
            "Epoch 30/150\n",
            "15/15 - 0s - loss: 0.0690 - AUC: 0.9958 - val_loss: 0.0725 - val_AUC: 0.9971\n",
            "Epoch 31/150\n",
            "15/15 - 0s - loss: 0.0650 - AUC: 0.9968 - val_loss: 0.0717 - val_AUC: 0.9975\n",
            "Epoch 32/150\n",
            "15/15 - 0s - loss: 0.0774 - AUC: 0.9941 - val_loss: 0.0711 - val_AUC: 0.9975\n",
            "Epoch 33/150\n",
            "15/15 - 0s - loss: 0.0684 - AUC: 0.9961 - val_loss: 0.0729 - val_AUC: 0.9965\n",
            "Epoch 34/150\n",
            "15/15 - 0s - loss: 0.0697 - AUC: 0.9937 - val_loss: 0.0727 - val_AUC: 0.9968\n",
            "Epoch 35/150\n",
            "15/15 - 0s - loss: 0.0705 - AUC: 0.9935 - val_loss: 0.0721 - val_AUC: 0.9968\n",
            "Epoch 36/150\n",
            "15/15 - 0s - loss: 0.0774 - AUC: 0.9914 - val_loss: 0.0711 - val_AUC: 0.9968\n",
            "Epoch 37/150\n",
            "15/15 - 0s - loss: 0.0645 - AUC: 0.9961 - val_loss: 0.0700 - val_AUC: 0.9975\n",
            "Epoch 38/150\n",
            "15/15 - 0s - loss: 0.0763 - AUC: 0.9938 - val_loss: 0.0689 - val_AUC: 0.9973\n",
            "Epoch 39/150\n",
            "15/15 - 0s - loss: 0.0737 - AUC: 0.9909 - val_loss: 0.0684 - val_AUC: 0.9975\n",
            "Epoch 40/150\n",
            "15/15 - 0s - loss: 0.0527 - AUC: 0.9974 - val_loss: 0.0683 - val_AUC: 0.9975\n",
            "Epoch 41/150\n",
            "15/15 - 0s - loss: 0.0554 - AUC: 0.9958 - val_loss: 0.0679 - val_AUC: 0.9975\n",
            "Epoch 42/150\n",
            "15/15 - 0s - loss: 0.0599 - AUC: 0.9974 - val_loss: 0.0682 - val_AUC: 0.9975\n",
            "Epoch 43/150\n",
            "15/15 - 0s - loss: 0.0621 - AUC: 0.9936 - val_loss: 0.0688 - val_AUC: 0.9975\n",
            "Epoch 44/150\n",
            "15/15 - 0s - loss: 0.0741 - AUC: 0.9942 - val_loss: 0.0674 - val_AUC: 0.9978\n",
            "Epoch 45/150\n",
            "15/15 - 0s - loss: 0.0589 - AUC: 0.9946 - val_loss: 0.0677 - val_AUC: 0.9978\n",
            "Epoch 46/150\n",
            "15/15 - 0s - loss: 0.0555 - AUC: 0.9971 - val_loss: 0.0677 - val_AUC: 0.9978\n",
            "Epoch 47/150\n",
            "15/15 - 0s - loss: 0.0567 - AUC: 0.9952 - val_loss: 0.0666 - val_AUC: 0.9978\n",
            "Epoch 48/150\n",
            "15/15 - 0s - loss: 0.0578 - AUC: 0.9965 - val_loss: 0.0646 - val_AUC: 0.9979\n",
            "Epoch 49/150\n",
            "15/15 - 0s - loss: 0.0649 - AUC: 0.9963 - val_loss: 0.0622 - val_AUC: 0.9981\n",
            "Epoch 50/150\n",
            "15/15 - 0s - loss: 0.0559 - AUC: 0.9967 - val_loss: 0.0652 - val_AUC: 0.9981\n",
            "Epoch 51/150\n",
            "15/15 - 0s - loss: 0.0662 - AUC: 0.9938 - val_loss: 0.0692 - val_AUC: 0.9975\n",
            "Epoch 52/150\n",
            "15/15 - 0s - loss: 0.0533 - AUC: 0.9963 - val_loss: 0.0704 - val_AUC: 0.9971\n",
            "Epoch 53/150\n",
            "15/15 - 0s - loss: 0.0538 - AUC: 0.9959 - val_loss: 0.0714 - val_AUC: 0.9971\n",
            "Epoch 54/150\n",
            "15/15 - 0s - loss: 0.0659 - AUC: 0.9963 - val_loss: 0.0715 - val_AUC: 0.9971\n",
            "Epoch 55/150\n",
            "15/15 - 0s - loss: 0.0470 - AUC: 0.9982 - val_loss: 0.0695 - val_AUC: 0.9978\n",
            "Epoch 56/150\n",
            "15/15 - 0s - loss: 0.0453 - AUC: 0.9975 - val_loss: 0.0695 - val_AUC: 0.9978\n",
            "Epoch 57/150\n",
            "15/15 - 0s - loss: 0.0521 - AUC: 0.9971 - val_loss: 0.0693 - val_AUC: 0.9978\n",
            "Epoch 58/150\n",
            "15/15 - 0s - loss: 0.0691 - AUC: 0.9914 - val_loss: 0.0680 - val_AUC: 0.9981\n",
            "Epoch 59/150\n",
            "15/15 - 0s - loss: 0.0509 - AUC: 0.9984 - val_loss: 0.0667 - val_AUC: 0.9981\n",
            "Epoch 60/150\n",
            "15/15 - 0s - loss: 0.0607 - AUC: 0.9957 - val_loss: 0.0654 - val_AUC: 0.9981\n",
            "Epoch 61/150\n",
            "15/15 - 0s - loss: 0.0457 - AUC: 0.9972 - val_loss: 0.0666 - val_AUC: 0.9981\n",
            "Epoch 62/150\n",
            "15/15 - 0s - loss: 0.0569 - AUC: 0.9966 - val_loss: 0.0693 - val_AUC: 0.9981\n",
            "Epoch 63/150\n",
            "15/15 - 0s - loss: 0.0526 - AUC: 0.9981 - val_loss: 0.0738 - val_AUC: 0.9975\n",
            "Epoch 64/150\n",
            "15/15 - 0s - loss: 0.0586 - AUC: 0.9972 - val_loss: 0.0755 - val_AUC: 0.9975\n",
            "Epoch 65/150\n",
            "15/15 - 0s - loss: 0.0457 - AUC: 0.9982 - val_loss: 0.0727 - val_AUC: 0.9978\n",
            "Epoch 66/150\n",
            "15/15 - 0s - loss: 0.0404 - AUC: 0.9983 - val_loss: 0.0672 - val_AUC: 0.9975\n",
            "Epoch 67/150\n",
            "15/15 - 0s - loss: 0.0552 - AUC: 0.9964 - val_loss: 0.0673 - val_AUC: 0.9973\n",
            "Epoch 68/150\n",
            "15/15 - 0s - loss: 0.0514 - AUC: 0.9976 - val_loss: 0.0687 - val_AUC: 0.9975\n",
            "Epoch 69/150\n",
            "15/15 - 0s - loss: 0.0631 - AUC: 0.9968 - val_loss: 0.0743 - val_AUC: 0.9971\n",
            "Epoch 70/150\n",
            "15/15 - 0s - loss: 0.0352 - AUC: 0.9990 - val_loss: 0.0787 - val_AUC: 0.9965\n",
            "Epoch 71/150\n",
            "15/15 - 0s - loss: 0.0667 - AUC: 0.9940 - val_loss: 0.0701 - val_AUC: 0.9975\n",
            "Epoch 72/150\n",
            "15/15 - 0s - loss: 0.0417 - AUC: 0.9982 - val_loss: 0.0702 - val_AUC: 0.9975\n",
            "Epoch 73/150\n",
            "15/15 - 0s - loss: 0.0440 - AUC: 0.9985 - val_loss: 0.0722 - val_AUC: 0.9971\n",
            "Epoch 74/150\n",
            "15/15 - 0s - loss: 0.0293 - AUC: 0.9996 - val_loss: 0.0747 - val_AUC: 0.9975\n",
            "Epoch 00074: early stopping\n"
          ],
          "name": "stdout"
        }
      ]
    },
    {
      "cell_type": "code",
      "metadata": {
        "colab": {
          "base_uri": "https://localhost:8080/"
        },
        "id": "rGlyAYA_EAof",
        "outputId": "3e24fa07-7857-478e-9d69-b584d7f41b6d"
      },
      "source": [
        "y_pred = model2.predict(x_test)\n",
        "cr = classification_report(y_test, (y_pred> 0.5))\n",
        "print(cr)"
      ],
      "execution_count": 59,
      "outputs": [
        {
          "output_type": "stream",
          "text": [
            "              precision    recall  f1-score   support\n",
            "\n",
            "           0       0.97      0.97      0.97        67\n",
            "           1       0.96      0.96      0.96        47\n",
            "\n",
            "    accuracy                           0.96       114\n",
            "   macro avg       0.96      0.96      0.96       114\n",
            "weighted avg       0.96      0.96      0.96       114\n",
            "\n"
          ],
          "name": "stdout"
        }
      ]
    },
    {
      "cell_type": "markdown",
      "metadata": {
        "id": "zjrwgvO3FaQ_"
      },
      "source": [
        "*Función de pérdida*"
      ]
    },
    {
      "cell_type": "code",
      "metadata": {
        "colab": {
          "base_uri": "https://localhost:8080/",
          "height": 299
        },
        "id": "7m6bzKo2EO7X",
        "outputId": "39cf5097-06fc-41f9-96ae-62361a6f9cc7"
      },
      "source": [
        "plt.plot(history.history['loss'])\n",
        "plt.plot(history.history['val_loss'])\n",
        "plt.title('Pérdida del modelo')\n",
        "plt.ylabel('Pérdida')\n",
        "plt.xlabel('epoca')\n",
        "plt.legend(['Pérdida en entrenamiento', 'Pérdida en Prueba'], loc='upper left')\n",
        "plt.show()"
      ],
      "execution_count": 60,
      "outputs": [
        {
          "output_type": "display_data",
          "data": {
            "image/png": "[encoded data removed]",
            "text/plain": [
              "<Figure size 432x288 with 1 Axes>"
            ]
          },
          "metadata": {
            "tags": []
          }
        }
      ]
    },
    {
      "cell_type": "markdown",
      "metadata": {
        "id": "WQGmIa6jGnf3"
      },
      "source": [
        "**Resultado para la métrica empleada**"
      ]
    },
    {
      "cell_type": "code",
      "metadata": {
        "colab": {
          "base_uri": "https://localhost:8080/",
          "height": 300
        },
        "id": "pJz12Ek6Fdm7",
        "outputId": "c7231f44-cd73-419f-e8a9-d502db31527f"
      },
      "source": [
        "plt.plot(history.history['AUC'])\n",
        "plt.plot(history.history['val_AUC'])\n",
        "plt.title('Resultados para la métrica AUC')\n",
        "plt.ylabel('AUC')\n",
        "plt.xlabel('Epoca')\n",
        "plt.legend(['Pérdida en entrenamiento', 'Pérdida en Prueba'], loc='lower right')\n",
        "plt.show()"
      ],
      "execution_count": 63,
      "outputs": [
        {
          "output_type": "display_data",
          "data": {
            "image/png": "[encoded data removed]",
            "text/plain": [
              "<Figure size 432x288 with 1 Axes>"
            ]
          },
          "metadata": {
            "tags": []
          }
        }
      ]
    },
    {
      "cell_type": "code",
      "metadata": {
        "id": "9qMHWQrEGqZi"
      },
      "source": [
        ""
      ],
      "execution_count": null,
      "outputs": []
    }
  ]
}
